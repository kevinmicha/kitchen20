{
 "cells": [
  {
   "cell_type": "code",
   "execution_count": 13,
   "metadata": {},
   "outputs": [],
   "source": [
    "from pprint import pprint\n",
    "import sounddevice as sd\n",
    "import pandas as pd\n",
    "import subprocess\n",
    "import wavio\n",
    "import os"
   ]
  },
  {
   "cell_type": "markdown",
   "metadata": {},
   "source": [
    "## Load the annotations"
   ]
  },
  {
   "cell_type": "code",
   "execution_count": 14,
   "metadata": {},
   "outputs": [
    {
     "data": {
      "text/html": [
       "<div>\n",
       "<style scoped>\n",
       "    .dataframe tbody tr th:only-of-type {\n",
       "        vertical-align: middle;\n",
       "    }\n",
       "\n",
       "    .dataframe tbody tr th {\n",
       "        vertical-align: top;\n",
       "    }\n",
       "\n",
       "    .dataframe thead th {\n",
       "        text-align: right;\n",
       "    }\n",
       "</style>\n",
       "<table border=\"1\" class=\"dataframe\">\n",
       "  <thead>\n",
       "    <tr style=\"text-align: right;\">\n",
       "      <th></th>\n",
       "      <th>start</th>\n",
       "      <th>path</th>\n",
       "      <th>comment</th>\n",
       "    </tr>\n",
       "  </thead>\n",
       "  <tbody>\n",
       "    <tr>\n",
       "      <th>0</th>\n",
       "      <td>00:00</td>\n",
       "      <td>blender/158737__jackofall29__blender-ice-crush...</td>\n",
       "      <td>y</td>\n",
       "    </tr>\n",
       "    <tr>\n",
       "      <th>1</th>\n",
       "      <td>00:10</td>\n",
       "      <td>blender/158737__jackofall29__blender-ice-crush...</td>\n",
       "      <td>y</td>\n",
       "    </tr>\n",
       "    <tr>\n",
       "      <th>2</th>\n",
       "      <td>00:15</td>\n",
       "      <td>blender/158737__jackofall29__blender-ice-crush...</td>\n",
       "      <td>y</td>\n",
       "    </tr>\n",
       "    <tr>\n",
       "      <th>3</th>\n",
       "      <td>00:00</td>\n",
       "      <td>blender/173319__jaxlynnstaranimate__juicer-shr...</td>\n",
       "      <td>y</td>\n",
       "    </tr>\n",
       "  </tbody>\n",
       "</table>\n",
       "</div>"
      ],
      "text/plain": [
       "   start                                               path comment\n",
       "0  00:00  blender/158737__jackofall29__blender-ice-crush...       y\n",
       "1  00:10  blender/158737__jackofall29__blender-ice-crush...       y\n",
       "2  00:15  blender/158737__jackofall29__blender-ice-crush...       y\n",
       "3  00:00  blender/173319__jaxlynnstaranimate__juicer-shr...       y"
      ]
     },
     "execution_count": 14,
     "metadata": {},
     "output_type": "execute_result"
    }
   ],
   "source": [
    "df = pd.read_csv('./classes.csv')\n",
    "df[:4]"
   ]
  },
  {
   "cell_type": "markdown",
   "metadata": {},
   "source": [
    "## Define the super-classes"
   ]
  },
  {
   "cell_type": "code",
   "execution_count": 15,
   "metadata": {},
   "outputs": [],
   "source": [
    "appliances = ['blender','dishwasher','fridge','microwave',\n",
    "              'stove-fan','stove-burner','frying-pan','water-flowing',\n",
    "              'boiling-water','juicer']\n",
    "\n",
    "actions = ['cupboard','drawer','clean-dishes','book','chopping',\n",
    "           'cutlery','eat','peel','plates','sweep']\n",
    "\n",
    "classes = appliances + actions"
   ]
  },
  {
   "cell_type": "code",
   "execution_count": 16,
   "metadata": {},
   "outputs": [
    {
     "name": "stdout",
     "output_type": "stream",
     "text": [
      "blender -- 47\n",
      "dishwasher -- 66\n",
      "fridge -- 50\n",
      "microwave -- 51\n",
      "stove-fan -- 54\n",
      "stove-burner -- 45\n",
      "frying-pan -- 68\n",
      "water-flowing -- 50\n",
      "boiling-water -- 46\n",
      "juicer -- 51\n",
      "cupboard -- 47\n",
      "drawer -- 56\n",
      "clean-dishes -- 60\n",
      "book -- 52\n",
      "chopping -- 45\n",
      "cutlery -- 69\n",
      "eat -- 42\n",
      "peel -- 49\n",
      "plates -- 63\n",
      "sweep -- 59\n"
     ]
    }
   ],
   "source": [
    "for c in classes:\n",
    "    def getCName(x):\n",
    "        return x.split('/')[0]\n",
    "    n_classes = (df.path.apply(getCName) == c).sum()\n",
    "    print(c, '--', str(n_classes))"
   ]
  },
  {
   "cell_type": "markdown",
   "metadata": {},
   "source": [
    "## extract audio"
   ]
  },
  {
   "cell_type": "code",
   "execution_count": 17,
   "metadata": {},
   "outputs": [
    {
     "name": "stdout",
     "output_type": "stream",
     "text": [
      "2           classes2.csv            human_classification.ipynb  LICENSE.md\n",
      "\u001b[0m\u001b[01;34maudio\u001b[0m/      classes.csv             \u001b[01;34mkitchen20\u001b[0m/                  \u001b[01;34mpytorch\u001b[0m/\n",
      "\u001b[01;34maudio_raw\u001b[0m/  data-exploration.ipynb  kitchen20.csv               README.md\n",
      "Will take some time to process all the audio files...\n",
      "example of a command run:\n",
      "ffmpeg -i \"audio_raw/juicer/BLACK+DECKER CJ625 30-Watt 34-Ounce Citrus Juicer Review.wav\" -ss 06:02 -t 00:05 -ac 1 -ar 44100 -loglevel error -y \"audio/6-BLACK+DECKER CJ625 30-Watt 34-Ounce Citrus Juicer Review.wav-G-9.wav\"\n",
      "Finished\n"
     ]
    }
   ],
   "source": [
    "%ls\n",
    "cmd_unformated = 'ffmpeg -i \"{}\" -ss {} -t 00:05 -ac 1 -ar {} -loglevel error -y \"{}\"'\n",
    "audioRate = 44100\n",
    "userDict = {}\n",
    "foldDict = {}\n",
    "summary = {'fold': [],\n",
    "           'target': [],\n",
    "           'category': [],\n",
    "           'usr_id': [],\n",
    "           'take': [],\n",
    "           'path': [],\n",
    "           'orig_idx': []}\n",
    "\n",
    "def ammend_dict(mDict, key):\n",
    "    if key not in mDict.keys():\n",
    "        mDict[key] = -1\n",
    "    mDict[key] += 1\n",
    "    \n",
    "# Create the dataset in ./audio\n",
    "print('Will take some time to process all the audio files...')\n",
    "subprocess.call('rm ./audio/*', shell=True)\n",
    "for idx, row in df.iterrows():\n",
    "    inPath = os.path.join('audio_raw/', row.path)\n",
    "    inTime = row.start\n",
    "    \n",
    "    # Get fold\n",
    "    fClass = row.path.split('/')[0]\n",
    "    ammend_dict(foldDict, fClass)\n",
    "    fFold = foldDict[fClass] // 8  # 8 samples per fold (8*5=40)\n",
    "    summary['fold'].append(fFold)\n",
    "    \n",
    "    # Get user id\n",
    "    fId = row.path.split('/')[-1]\n",
    "    fId = fId.split('_')[0]\n",
    "    ammend_dict(userDict, fId)\n",
    "    userNb = chr(ord('A') + userDict[fId])\n",
    "    summary['usr_id'].append(fId)\n",
    "    summary['take'].append(userNb)\n",
    "    \n",
    "    # Make name\n",
    "    classId = classes.index(fClass)\n",
    "    fName = '{}-{}-{}-{}.wav'.format(fFold, fId, userNb, classId)\n",
    "    outPath = os.path.join('audio/', fName)\n",
    "    summary['target'].append(classId)\n",
    "    summary['category'].append(fClass)\n",
    "    summary['path'].append(outPath)\n",
    "    summary['orig_idx'].append(idx)\n",
    "    \n",
    "    # Call cmd\n",
    "    cmd = cmd_unformated.format(inPath, inTime, audioRate, outPath)\n",
    "    command_run = subprocess.call(cmd, shell=True)\n",
    "    if command_run != 0:  # If cmd failed\n",
    "        pprint(cmd)\n",
    "\n",
    "print('example of a command run:')\n",
    "print(cmd)\n",
    "print('Finished')\n",
    "df_summary = pd.DataFrame(summary)"
   ]
  },
  {
   "cell_type": "markdown",
   "metadata": {},
   "source": [
    "## Evaluate quality of sound"
   ]
  },
  {
   "cell_type": "code",
   "execution_count": 19,
   "metadata": {},
   "outputs": [
    {
     "name": "stdout",
     "output_type": "stream",
     "text": [
      "peel\n",
      "frying-pan\n",
      "book\n",
      "dishwasher\n",
      "drawer\n",
      "blender\n",
      "microwave\n",
      "plates\n",
      "water-flowing\n",
      "eat\n",
      "clean-dishes\n",
      "cupboard\n",
      "stove-fan\n",
      "fridge\n",
      "boiling-water\n",
      "stove-burner\n",
      "chopping\n",
      "sweep\n",
      "cutlery\n",
      "juicer\n"
     ]
    }
   ],
   "source": [
    "for cat in set(df_summary.category):\n",
    "    print(cat)\n",
    "    for _, row in df_summary[df_summary.category == cat].iterrows():\n",
    "        if df.comment.isna()[row.orig_idx]:\n",
    "            print(row.path, row.category)\n",
    "            sound = wavio.read(row.path).data.T[0]\n",
    "            sd.play(sound, audioRate)\n",
    "            df.loc[row.orig_idx, 'comment'] = input('y/n/m(eh)')"
   ]
  },
  {
   "cell_type": "code",
   "execution_count": 20,
   "metadata": {},
   "outputs": [
    {
     "name": "stdout",
     "output_type": "stream",
     "text": [
      "   start                                               path comment\n",
      "0  00:00  blender/158737__jackofall29__blender-ice-crush...       y\n",
      "1  00:10  blender/158737__jackofall29__blender-ice-crush...       y\n",
      "1070\n",
      "overwrite classes.csv ? (Y/n)Y\n",
      "overwritten\n"
     ]
    }
   ],
   "source": [
    "print(df[:2])\n",
    "print(len(df))\n",
    "do_overwrite = input('overwrite classes.csv ? (Y/n)')\n",
    "if do_overwrite == 'Y':\n",
    "    df.to_csv('classes.csv', index=False)\n",
    "    print('overwritten')\n",
    "else:\n",
    "    print('not overwritten')"
   ]
  },
  {
   "cell_type": "code",
   "execution_count": null,
   "metadata": {},
   "outputs": [],
   "source": []
  },
  {
   "cell_type": "code",
   "execution_count": null,
   "metadata": {},
   "outputs": [],
   "source": []
  },
  {
   "cell_type": "markdown",
   "metadata": {},
   "source": [
    "## Export dataset"
   ]
  },
  {
   "cell_type": "code",
   "execution_count": 21,
   "metadata": {},
   "outputs": [
    {
     "data": {
      "text/html": [
       "<div>\n",
       "<style scoped>\n",
       "    .dataframe tbody tr th:only-of-type {\n",
       "        vertical-align: middle;\n",
       "    }\n",
       "\n",
       "    .dataframe tbody tr th {\n",
       "        vertical-align: top;\n",
       "    }\n",
       "\n",
       "    .dataframe thead th {\n",
       "        text-align: right;\n",
       "    }\n",
       "</style>\n",
       "<table border=\"1\" class=\"dataframe\">\n",
       "  <thead>\n",
       "    <tr style=\"text-align: right;\">\n",
       "      <th></th>\n",
       "      <th>category</th>\n",
       "      <th>fold</th>\n",
       "      <th>orig_idx</th>\n",
       "      <th>path</th>\n",
       "      <th>take</th>\n",
       "      <th>target</th>\n",
       "      <th>usr_id</th>\n",
       "    </tr>\n",
       "  </thead>\n",
       "  <tbody>\n",
       "    <tr>\n",
       "      <th>0</th>\n",
       "      <td>blender</td>\n",
       "      <td>0</td>\n",
       "      <td>0</td>\n",
       "      <td>audio/0-158737-A-0.wav</td>\n",
       "      <td>A</td>\n",
       "      <td>0</td>\n",
       "      <td>158737</td>\n",
       "    </tr>\n",
       "    <tr>\n",
       "      <th>1</th>\n",
       "      <td>blender</td>\n",
       "      <td>0</td>\n",
       "      <td>1</td>\n",
       "      <td>audio/0-158737-B-0.wav</td>\n",
       "      <td>B</td>\n",
       "      <td>0</td>\n",
       "      <td>158737</td>\n",
       "    </tr>\n",
       "    <tr>\n",
       "      <th>2</th>\n",
       "      <td>blender</td>\n",
       "      <td>0</td>\n",
       "      <td>2</td>\n",
       "      <td>audio/0-158737-C-0.wav</td>\n",
       "      <td>C</td>\n",
       "      <td>0</td>\n",
       "      <td>158737</td>\n",
       "    </tr>\n",
       "    <tr>\n",
       "      <th>3</th>\n",
       "      <td>blender</td>\n",
       "      <td>0</td>\n",
       "      <td>3</td>\n",
       "      <td>audio/0-173319-A-0.wav</td>\n",
       "      <td>A</td>\n",
       "      <td>0</td>\n",
       "      <td>173319</td>\n",
       "    </tr>\n",
       "    <tr>\n",
       "      <th>4</th>\n",
       "      <td>blender</td>\n",
       "      <td>0</td>\n",
       "      <td>4</td>\n",
       "      <td>audio/0-173319-B-0.wav</td>\n",
       "      <td>B</td>\n",
       "      <td>0</td>\n",
       "      <td>173319</td>\n",
       "    </tr>\n",
       "    <tr>\n",
       "      <th>5</th>\n",
       "      <td>blender</td>\n",
       "      <td>0</td>\n",
       "      <td>5</td>\n",
       "      <td>audio/0-173319-C-0.wav</td>\n",
       "      <td>C</td>\n",
       "      <td>0</td>\n",
       "      <td>173319</td>\n",
       "    </tr>\n",
       "    <tr>\n",
       "      <th>6</th>\n",
       "      <td>blender</td>\n",
       "      <td>0</td>\n",
       "      <td>6</td>\n",
       "      <td>audio/0-173319-D-0.wav</td>\n",
       "      <td>D</td>\n",
       "      <td>0</td>\n",
       "      <td>173319</td>\n",
       "    </tr>\n",
       "    <tr>\n",
       "      <th>7</th>\n",
       "      <td>blender</td>\n",
       "      <td>0</td>\n",
       "      <td>7</td>\n",
       "      <td>audio/0-181625-A-0.wav</td>\n",
       "      <td>A</td>\n",
       "      <td>0</td>\n",
       "      <td>181625</td>\n",
       "    </tr>\n",
       "    <tr>\n",
       "      <th>8</th>\n",
       "      <td>blender</td>\n",
       "      <td>1</td>\n",
       "      <td>8</td>\n",
       "      <td>audio/1-181625-B-0.wav</td>\n",
       "      <td>B</td>\n",
       "      <td>0</td>\n",
       "      <td>181625</td>\n",
       "    </tr>\n",
       "    <tr>\n",
       "      <th>9</th>\n",
       "      <td>blender</td>\n",
       "      <td>1</td>\n",
       "      <td>9</td>\n",
       "      <td>audio/1-181625-C-0.wav</td>\n",
       "      <td>C</td>\n",
       "      <td>0</td>\n",
       "      <td>181625</td>\n",
       "    </tr>\n",
       "  </tbody>\n",
       "</table>\n",
       "</div>"
      ],
      "text/plain": [
       "  category  fold  orig_idx                    path take  target  usr_id\n",
       "0  blender     0         0  audio/0-158737-A-0.wav    A       0  158737\n",
       "1  blender     0         1  audio/0-158737-B-0.wav    B       0  158737\n",
       "2  blender     0         2  audio/0-158737-C-0.wav    C       0  158737\n",
       "3  blender     0         3  audio/0-173319-A-0.wav    A       0  173319\n",
       "4  blender     0         4  audio/0-173319-B-0.wav    B       0  173319\n",
       "5  blender     0         5  audio/0-173319-C-0.wav    C       0  173319\n",
       "6  blender     0         6  audio/0-173319-D-0.wav    D       0  173319\n",
       "7  blender     0         7  audio/0-181625-A-0.wav    A       0  181625\n",
       "8  blender     1         8  audio/1-181625-B-0.wav    B       0  181625\n",
       "9  blender     1         9  audio/1-181625-C-0.wav    C       0  181625"
      ]
     },
     "execution_count": 21,
     "metadata": {},
     "output_type": "execute_result"
    }
   ],
   "source": [
    "df_summary.fold = df_summary.fold + 1\n",
    "df_summary.to_csv('kitchen20.csv')\n",
    "df_summary[:10]"
   ]
  },
  {
   "cell_type": "code",
   "execution_count": 22,
   "metadata": {},
   "outputs": [],
   "source": [
    "for c in classes:\n",
    "    def getCName(x):\n",
    "        return x.split('/')[0]\n",
    "    n_classes = ((df.path.apply(getCName) == c) &\n",
    "                 ((df.comment == 'y'))).sum()\n",
    "    if n_classes < 40:\n",
    "        print(c, '--', str(n_classes))\n"
   ]
  },
  {
   "cell_type": "code",
   "execution_count": null,
   "metadata": {},
   "outputs": [],
   "source": []
  }
 ],
 "metadata": {
  "kernelspec": {
   "display_name": "Python 3",
   "language": "python",
   "name": "python3"
  },
  "language_info": {
   "codemirror_mode": {
    "name": "ipython",
    "version": 3
   },
   "file_extension": ".py",
   "mimetype": "text/x-python",
   "name": "python",
   "nbconvert_exporter": "python",
   "pygments_lexer": "ipython3",
   "version": "3.5.2"
  }
 },
 "nbformat": 4,
 "nbformat_minor": 2
}
