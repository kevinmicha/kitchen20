{
 "cells": [
  {
   "cell_type": "code",
   "execution_count": 2,
   "metadata": {},
   "outputs": [
    {
     "name": "stdout",
     "output_type": "stream",
     "text": [
      "Converting sounds to 16000Hz...\n",
      "Creating corresponding npz file...\n",
      "Saving\n",
      "Finished\n"
     ]
    }
   ],
   "source": [
    "from kitchen20 import Kitchen20\n",
    "import utils as U\n",
    "inputLength = 48000\n",
    "\n",
    "transforms = []\n",
    "transforms += [U.random_scale(1.25)]  # Strong augment\n",
    "transforms += [U.padding(inputLength // 2)]  # Padding\n",
    "transforms += [U.random_crop(inputLength)]  # Random crop\n",
    "transforms += [U.normalize(float(2 ** 16 / 2))]  # 16 bit signed\n",
    "transforms += [U.random_flip()]  # Random +-\n",
    "\n",
    "train = Kitchen20(root='../',\n",
    "                  folds=[1,2,3,4],\n",
    "                  transforms=transforms,\n",
    "                  overwrite=True,\n",
    "                  use_bc_learning=True,\n",
    "                  audio_rate=44100)\n"
   ]
  }
 ],
 "metadata": {
  "kernelspec": {
   "display_name": "Python 3",
   "language": "python",
   "name": "python3"
  },
  "language_info": {
   "codemirror_mode": {
    "name": "ipython",
    "version": 3
   },
   "file_extension": ".py",
   "mimetype": "text/x-python",
   "name": "python",
   "nbconvert_exporter": "python",
   "pygments_lexer": "ipython3",
   "version": "3.5.2"
  }
 },
 "nbformat": 4,
 "nbformat_minor": 2
}
